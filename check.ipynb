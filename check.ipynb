{
 "cells": [
  {
   "cell_type": "code",
   "execution_count": 1,
   "id": "b68a9d74",
   "metadata": {},
   "outputs": [
    {
     "name": "stdout",
     "output_type": "stream",
     "text": [
      "Processing c:\\users\\akroc\\pycharmprojects\\foreigninterviewees\\pyaudio-0.2.11-cp310-cp310-win_amd64.whl\n",
      "Requirement already satisfied: transformers in c:\\users\\akroc\\pycharmprojects\\foreigninterviewees\\venv\\lib\\site-packages (4.17.0)\n",
      "Requirement already satisfied: playsound in c:\\users\\akroc\\pycharmprojects\\foreigninterviewees\\venv\\lib\\site-packages (1.3.0)\n",
      "Requirement already satisfied: pyaudio in c:\\users\\akroc\\pycharmprojects\\foreigninterviewees\\venv\\lib\\site-packages (0.2.11)\n",
      "Requirement already satisfied: pydub in c:\\users\\akroc\\pycharmprojects\\foreigninterviewees\\venv\\lib\\site-packages (0.25.1)\n",
      "Requirement already satisfied: ffmpeg-python in c:\\users\\akroc\\pycharmprojects\\foreigninterviewees\\venv\\lib\\site-packages (0.2.0)\n",
      "Requirement already satisfied: soundfile in c:\\users\\akroc\\pycharmprojects\\foreigninterviewees\\venv\\lib\\site-packages (0.10.3.post1)\n",
      "Requirement already satisfied: librosa in c:\\users\\akroc\\pycharmprojects\\foreigninterviewees\\venv\\lib\\site-packages (0.9.1)\n",
      "Requirement already satisfied: torch in c:\\users\\akroc\\pycharmprojects\\foreigninterviewees\\venv\\lib\\site-packages (1.11.0)\n",
      "Requirement already satisfied: pyyaml>=5.1 in c:\\users\\akroc\\pycharmprojects\\foreigninterviewees\\venv\\lib\\site-packages (from transformers) (6.0)\n",
      "Requirement already satisfied: sacremoses in c:\\users\\akroc\\pycharmprojects\\foreigninterviewees\\venv\\lib\\site-packages (from transformers) (0.0.49)\n",
      "Requirement already satisfied: packaging>=20.0 in c:\\users\\akroc\\pycharmprojects\\foreigninterviewees\\venv\\lib\\site-packages (from transformers) (21.3)\n",
      "Requirement already satisfied: numpy>=1.17 in c:\\users\\akroc\\pycharmprojects\\foreigninterviewees\\venv\\lib\\site-packages (from transformers) (1.21.5)\n",
      "Requirement already satisfied: requests in c:\\users\\akroc\\pycharmprojects\\foreigninterviewees\\venv\\lib\\site-packages (from transformers) (2.27.1)\n",
      "Requirement already satisfied: tokenizers!=0.11.3,>=0.11.1 in c:\\users\\akroc\\pycharmprojects\\foreigninterviewees\\venv\\lib\\site-packages (from transformers) (0.11.6)\n",
      "Requirement already satisfied: regex!=2019.12.17 in c:\\users\\akroc\\pycharmprojects\\foreigninterviewees\\venv\\lib\\site-packages (from transformers) (2022.3.15)\n",
      "Requirement already satisfied: huggingface-hub<1.0,>=0.1.0 in c:\\users\\akroc\\pycharmprojects\\foreigninterviewees\\venv\\lib\\site-packages (from transformers) (0.4.0)\n",
      "Requirement already satisfied: filelock in c:\\users\\akroc\\pycharmprojects\\foreigninterviewees\\venv\\lib\\site-packages (from transformers) (3.6.0)\n",
      "Requirement already satisfied: tqdm>=4.27 in c:\\users\\akroc\\pycharmprojects\\foreigninterviewees\\venv\\lib\\site-packages (from transformers) (4.63.0)\n",
      "Requirement already satisfied: future in c:\\users\\akroc\\pycharmprojects\\foreigninterviewees\\venv\\lib\\site-packages (from ffmpeg-python) (0.18.2)\n",
      "Requirement already satisfied: cffi>=1.0 in c:\\users\\akroc\\pycharmprojects\\foreigninterviewees\\venv\\lib\\site-packages (from soundfile) (1.15.0)\n",
      "Requirement already satisfied: audioread>=2.1.5 in c:\\users\\akroc\\pycharmprojects\\foreigninterviewees\\venv\\lib\\site-packages (from librosa) (2.1.9)\n",
      "Requirement already satisfied: decorator>=4.0.10 in c:\\users\\akroc\\pycharmprojects\\foreigninterviewees\\venv\\lib\\site-packages (from librosa) (5.1.1)\n",
      "Requirement already satisfied: pooch>=1.0 in c:\\users\\akroc\\pycharmprojects\\foreigninterviewees\\venv\\lib\\site-packages (from librosa) (1.6.0)\n",
      "Requirement already satisfied: resampy>=0.2.2 in c:\\users\\akroc\\pycharmprojects\\foreigninterviewees\\venv\\lib\\site-packages (from librosa) (0.2.2)Note: you may need to restart the kernel to use updated packages.\n",
      "Requirement already satisfied: scipy>=1.2.0 in c:\\users\\akroc\\pycharmprojects\\foreigninterviewees\\venv\\lib\\site-packages (from librosa) (1.8.0)\n",
      "Requirement already satisfied: joblib>=0.14 in c:\\users\\akroc\\pycharmprojects\\foreigninterviewees\\venv\\lib\\site-packages (from librosa) (1.1.0)\n",
      "Requirement already satisfied: scikit-learn>=0.19.1 in c:\\users\\akroc\\pycharmprojects\\foreigninterviewees\\venv\\lib\\site-packages (from librosa) (1.0.2)\n",
      "Requirement already satisfied: numba>=0.45.1 in c:\\users\\akroc\\pycharmprojects\\foreigninterviewees\\venv\\lib\\site-packages (from librosa) (0.55.1)\n",
      "Requirement already satisfied: typing-extensions in c:\\users\\akroc\\pycharmprojects\\foreigninterviewees\\venv\\lib\\site-packages (from torch) (4.1.1)\n",
      "Requirement already satisfied: pycparser in c:\\users\\akroc\\pycharmprojects\\foreigninterviewees\\venv\\lib\\site-packages (from cffi>=1.0->soundfile) (2.21)\n",
      "Requirement already satisfied: llvmlite<0.39,>=0.38.0rc1 in c:\\users\\akroc\\pycharmprojects\\foreigninterviewees\\venv\\lib\\site-packages (from numba>=0.45.1->librosa) (0.38.0)\n",
      "\n",
      "Requirement already satisfied: setuptools in c:\\users\\akroc\\pycharmprojects\\foreigninterviewees\\venv\\lib\\site-packages (from numba>=0.45.1->librosa) (57.0.0)\n",
      "Requirement already satisfied: pyparsing!=3.0.5,>=2.0.2 in c:\\users\\akroc\\pycharmprojects\\foreigninterviewees\\venv\\lib\\site-packages (from packaging>=20.0->transformers) (3.0.7)\n",
      "Requirement already satisfied: appdirs>=1.3.0 in c:\\users\\akroc\\pycharmprojects\\foreigninterviewees\\venv\\lib\\site-packages (from pooch>=1.0->librosa) (1.4.4)\n",
      "Requirement already satisfied: urllib3<1.27,>=1.21.1 in c:\\users\\akroc\\pycharmprojects\\foreigninterviewees\\venv\\lib\\site-packages (from requests->transformers) (1.26.9)\n",
      "Requirement already satisfied: idna<4,>=2.5 in c:\\users\\akroc\\pycharmprojects\\foreigninterviewees\\venv\\lib\\site-packages (from requests->transformers) (3.3)\n",
      "Requirement already satisfied: charset-normalizer~=2.0.0 in c:\\users\\akroc\\pycharmprojects\\foreigninterviewees\\venv\\lib\\site-packages (from requests->transformers) (2.0.12)\n",
      "Requirement already satisfied: certifi>=2017.4.17 in c:\\users\\akroc\\pycharmprojects\\foreigninterviewees\\venv\\lib\\site-packages (from requests->transformers) (2021.10.8)\n",
      "Requirement already satisfied: six>=1.3 in c:\\users\\akroc\\pycharmprojects\\foreigninterviewees\\venv\\lib\\site-packages (from resampy>=0.2.2->librosa) (1.16.0)\n",
      "Requirement already satisfied: threadpoolctl>=2.0.0 in c:\\users\\akroc\\pycharmprojects\\foreigninterviewees\\venv\\lib\\site-packages (from scikit-learn>=0.19.1->librosa) (3.1.0)\n",
      "Requirement already satisfied: colorama in c:\\users\\akroc\\pycharmprojects\\foreigninterviewees\\venv\\lib\\site-packages (from tqdm>=4.27->transformers) (0.4.4)\n",
      "Requirement already satisfied: click in c:\\users\\akroc\\pycharmprojects\\foreigninterviewees\\venv\\lib\\site-packages (from sacremoses->transformers) (8.0.4)\n",
      "PyAudio is already installed with the same version as the provided wheel. Use --force-reinstall to force an installation of the wheel.\n"
     ]
    }
   ],
   "source": [
    "pip install transformers playsound pyaudio pydub ffmpeg-python soundfile librosa PyAudio-0.2.11-cp310-cp310-win_amd64.whl torch"
   ]
  },
  {
   "cell_type": "code",
   "execution_count": 2,
   "id": "43de1f8f",
   "metadata": {},
   "outputs": [
    {
     "name": "stderr",
     "output_type": "stream",
     "text": [
      "c:\\users\\akroc\\pycharmprojects\\foreigninterviewees\\venv\\lib\\site-packages\\torch\\_masked\\__init__.py:223: UserWarning: Failed to initialize NumPy: module compiled against API version 0xf but this version of numpy is 0xe (Triggered internally at  ..\\torch\\csrc\\utils\\tensor_numpy.cpp:68.)\n",
      "  example_input = torch.tensor([[-3, -2, -1], [0, 1, 2]])\n"
     ]
    },
    {
     "name": "stdout",
     "output_type": "stream",
     "text": [
      "How long do you want to talk for? Keep in mind that there is a ~1 second waiting time between submission and recording :D2\n",
      "Recording...\n",
      "Finished recording.\n"
     ]
    },
    {
     "name": "stderr",
     "output_type": "stream",
     "text": [
      "The tokenizer class you load from this checkpoint is not the same type as the class this function is called from. It may result in unexpected tokenization. \n",
      "The tokenizer class you load from this checkpoint is 'Wav2Vec2CTCTokenizer'. \n",
      "The class this function is called from is 'Wav2Vec2Tokenizer'.\n",
      "c:\\users\\akroc\\pycharmprojects\\foreigninterviewees\\venv\\lib\\site-packages\\transformers\\models\\wav2vec2\\tokenization_wav2vec2.py:746: FutureWarning: The class `Wav2Vec2Tokenizer` is deprecated and will be removed in version 5 of Transformers. Please use `Wav2Vec2Processor` or `Wav2Vec2CTCTokenizer` instead.\n",
      "  warnings.warn(\n",
      "Some weights of Wav2Vec2ForCTC were not initialized from the model checkpoint at facebook/wav2vec2-base-960h and are newly initialized: ['wav2vec2.masked_spec_embed']\n",
      "You should probably TRAIN this model on a down-stream task to be able to use it for predictions and inference.\n"
     ]
    },
    {
     "data": {
      "text/plain": [
       "'one two'"
      ]
     },
     "execution_count": 2,
     "metadata": {},
     "output_type": "execute_result"
    }
   ],
   "source": [
    "import pyaudio\n",
    "import wave\n",
    "import soundfile as sf\n",
    "import librosa\n",
    "import torch\n",
    "from transformers import Wav2Vec2ForCTC, Wav2Vec2Tokenizer\n",
    "from IPython.display import Audio\n",
    "from scipy.io import wavfile\n",
    "import numpy as np\n",
    "\n",
    "filename = \"recorded.wav\"\n",
    "chunk = 1024\n",
    "FORMAT = pyaudio.paInt16\n",
    "channels = 1\n",
    "sample_rate = 44100\n",
    "record_seconds = int(input(\"How long do you want to talk for? Keep in mind that there is a ~1 second waiting time between submission and recording :D\"))\n",
    "p = pyaudio.PyAudio()\n",
    "stream = p.open(format=FORMAT,\n",
    "                channels=channels,\n",
    "                rate=sample_rate,\n",
    "                input=True,\n",
    "                output=True,\n",
    "                frames_per_buffer=chunk)\n",
    "frames = []\n",
    "print(\"Recording...\")\n",
    "for i in range(int(sample_rate / chunk * record_seconds)):\n",
    "    data = stream.read(chunk)\n",
    "    frames.append(data)\n",
    "print(\"Finished recording.\")\n",
    "stream.stop_stream()\n",
    "stream.close()\n",
    "p.terminate()\n",
    "wf = wave.open(filename, \"wb\")\n",
    "wf.setnchannels(channels)\n",
    "wf.setsampwidth(p.get_sample_size(FORMAT))\n",
    "wf.setframerate(sample_rate)\n",
    "wf.writeframes(b\"\".join(frames))\n",
    "wf.close()\n",
    "file_name = 'recorded.wav'\n",
    "data = wavfile.read(file_name)\n",
    "framerate = data[0]\n",
    "sounddata = data[1]\n",
    "time = np.arange(0,len(sounddata))/framerate\n",
    "tokenizer = Wav2Vec2Tokenizer.from_pretrained(\"facebook/wav2vec2-base-960h\")\n",
    "model = Wav2Vec2ForCTC.from_pretrained(\"facebook/wav2vec2-base-960h\")\n",
    "input_audio, _ = librosa.load(file_name,\n",
    "                              sr=16000)\n",
    "input_values = tokenizer(input_audio, return_tensors=\"pt\").input_values\n",
    "logits = model(input_values).logits\n",
    "predicted_ids = torch.argmax(logits, dim=-1)\n",
    "transcription = tokenizer.batch_decode(predicted_ids)[0]\n",
    "transcription.lower()"
   ]
  },
  {
   "cell_type": "code",
   "execution_count": null,
   "id": "483969cb",
   "metadata": {},
   "outputs": [],
   "source": []
  }
 ],
 "metadata": {
  "kernelspec": {
   "display_name": "Python 3 (ipykernel)",
   "language": "python",
   "name": "python3"
  },
  "language_info": {
   "codemirror_mode": {
    "name": "ipython",
    "version": 3
   },
   "file_extension": ".py",
   "mimetype": "text/x-python",
   "name": "python",
   "nbconvert_exporter": "python",
   "pygments_lexer": "ipython3",
   "version": "3.10.1"
  }
 },
 "nbformat": 4,
 "nbformat_minor": 5
}
